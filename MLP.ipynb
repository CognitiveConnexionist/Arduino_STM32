{
  "nbformat": 4,
  "nbformat_minor": 0,
  "metadata": {
    "colab": {
      "name": "MLP.ipynb",
      "provenance": [],
      "collapsed_sections": [],
      "authorship_tag": "ABX9TyO5UHd6vCZXUOhlFOPc1Yit",
      "include_colab_link": true
    },
    "kernelspec": {
      "name": "python3",
      "display_name": "Python 3"
    },
    "language_info": {
      "name": "python"
    },
    "accelerator": "GPU"
  },
  "cells": [
    {
      "cell_type": "markdown",
      "metadata": {
        "id": "view-in-github",
        "colab_type": "text"
      },
      "source": [
        "<a href=\"https://colab.research.google.com/github/CognitiveConnexionist/Arduino_STM32/blob/master/MLP.ipynb\" target=\"_parent\"><img src=\"https://colab.research.google.com/assets/colab-badge.svg\" alt=\"Open In Colab\"/></a>"
      ]
    },
    {
      "cell_type": "code",
      "metadata": {
        "colab": {
          "base_uri": "https://localhost:8080/"
        },
        "id": "9RjKgvOysGa7",
        "outputId": "d587f8be-50e0-4984-deae-895d551f1f96"
      },
      "source": [
        "# Imports\n",
        "import tensorflow\n",
        "from tensorflow.keras.datasets import mnist\n",
        "from tensorflow.keras.models import Sequential\n",
        "from tensorflow.keras.layers import Dense\n",
        "from tensorflow.keras.utils import to_categorical\n",
        "\n",
        "# Configuration options\n",
        "feature_vector_length = 784\n",
        "num_classes = 10\n",
        "\n",
        "# Load the data\n",
        "(X_train, Y_train), (X_test, Y_test) = mnist.load_data()\n",
        "\n",
        "# Reshape the data - MLPs do not understand such things as '2D'.\n",
        "# Reshape to 28 x 28 pixels = 784 features\n",
        "X_train = X_train.reshape(X_train.shape[0], feature_vector_length)\n",
        "X_test = X_test.reshape(X_test.shape[0], feature_vector_length)\n",
        "\n",
        "# Convert into greyscale\n",
        "X_train = X_train.astype('float32')\n",
        "X_test = X_test.astype('float32')\n",
        "X_train /= 255\n",
        "X_test /= 255\n",
        "\n",
        "# Convert target classes to categorical ones\n",
        "Y_train = to_categorical(Y_train, num_classes)\n",
        "Y_test = to_categorical(Y_test, num_classes)\n",
        "\n",
        "# Set the input shape\n",
        "input_shape = (feature_vector_length,)\n",
        "print(f'Feature shape: {input_shape}')\n",
        "\n",
        "# Create the model\n",
        "model = Sequential()\n",
        "model.add(Dense(350, input_shape=input_shape, activation='relu'))\n",
        "model.add(Dense(50, activation='relu'))\n",
        "model.add(Dense(num_classes, activation='softmax'))\n",
        "\n",
        "# Configure the model and start training\n",
        "model.compile(loss='categorical_crossentropy', optimizer='adam', metrics=['accuracy'])\n",
        "model.fit(X_train, Y_train, epochs=10, batch_size=250, verbose=1, validation_split=0.2)\n",
        "\n",
        "# Test the model after training\n",
        "test_results = model.evaluate(X_test, Y_test, verbose=1)\n",
        "print(f'Test results - Loss: {test_results[0]} - Accuracy: {test_results[1]}')"
      ],
      "execution_count": 2,
      "outputs": [
        {
          "output_type": "stream",
          "name": "stdout",
          "text": [
            "Downloading data from https://storage.googleapis.com/tensorflow/tf-keras-datasets/mnist.npz\n",
            "11493376/11490434 [==============================] - 0s 0us/step\n",
            "11501568/11490434 [==============================] - 0s 0us/step\n",
            "Feature shape: (784,)\n",
            "Epoch 1/10\n",
            "192/192 [==============================] - 4s 5ms/step - loss: 0.3915 - accuracy: 0.8921 - val_loss: 0.1772 - val_accuracy: 0.9517\n",
            "Epoch 2/10\n",
            "192/192 [==============================] - 1s 4ms/step - loss: 0.1483 - accuracy: 0.9576 - val_loss: 0.1270 - val_accuracy: 0.9642\n",
            "Epoch 3/10\n",
            "192/192 [==============================] - 1s 4ms/step - loss: 0.1005 - accuracy: 0.9711 - val_loss: 0.1066 - val_accuracy: 0.9684\n",
            "Epoch 4/10\n",
            "192/192 [==============================] - 1s 4ms/step - loss: 0.0737 - accuracy: 0.9787 - val_loss: 0.0929 - val_accuracy: 0.9718\n",
            "Epoch 5/10\n",
            "192/192 [==============================] - 1s 4ms/step - loss: 0.0551 - accuracy: 0.9845 - val_loss: 0.0887 - val_accuracy: 0.9728\n",
            "Epoch 6/10\n",
            "192/192 [==============================] - 1s 4ms/step - loss: 0.0430 - accuracy: 0.9880 - val_loss: 0.0826 - val_accuracy: 0.9743\n",
            "Epoch 7/10\n",
            "192/192 [==============================] - 1s 4ms/step - loss: 0.0330 - accuracy: 0.9911 - val_loss: 0.0851 - val_accuracy: 0.9748\n",
            "Epoch 8/10\n",
            "192/192 [==============================] - 1s 4ms/step - loss: 0.0257 - accuracy: 0.9930 - val_loss: 0.0837 - val_accuracy: 0.9756\n",
            "Epoch 9/10\n",
            "192/192 [==============================] - 1s 4ms/step - loss: 0.0213 - accuracy: 0.9940 - val_loss: 0.0814 - val_accuracy: 0.9758\n",
            "Epoch 10/10\n",
            "192/192 [==============================] - 1s 4ms/step - loss: 0.0149 - accuracy: 0.9965 - val_loss: 0.0820 - val_accuracy: 0.9772\n",
            "313/313 [==============================] - 1s 3ms/step - loss: 0.0709 - accuracy: 0.9786\n",
            "Test results - Loss: 0.07093413174152374 - Accuracy: 0.978600025177002%\n"
          ]
        }
      ]
    },
    {
      "cell_type": "code",
      "metadata": {
        "colab": {
          "base_uri": "https://localhost:8080/"
        },
        "id": "W7aImZFYzC7a",
        "outputId": "f6e9aac2-5e0f-4845-ec80-a85e4ed23956"
      },
      "source": [
        "test_results = model.evaluate(X_test, Y_test, verbose=1)\n",
        "print(f'Test results - Loss: {test_results[0]} - Accuracy: {test_results[1]}%')"
      ],
      "execution_count": 3,
      "outputs": [
        {
          "output_type": "stream",
          "name": "stdout",
          "text": [
            "313/313 [==============================] - 1s 3ms/step - loss: 0.0709 - accuracy: 0.9786\n",
            "Test results - Loss: 0.07093413174152374 - Accuracy: 0.978600025177002%\n"
          ]
        }
      ]
    },
    {
      "cell_type": "code",
      "metadata": {
        "id": "EZjklsoMzhS6"
      },
      "source": [
        ""
      ],
      "execution_count": null,
      "outputs": []
    },
    {
      "cell_type": "code",
      "metadata": {
        "colab": {
          "base_uri": "https://localhost:8080/"
        },
        "id": "GGdhKeSizooL",
        "outputId": "0949b2c4-a1c7-44d5-8f23-cc47ec479b30"
      },
      "source": [
        "# Imports\n",
        "import tensorflow\n",
        "from tensorflow.keras.datasets import mnist\n",
        "from tensorflow.keras.models import Sequential\n",
        "from tensorflow.keras.layers import Dense\n",
        "from tensorflow.keras.utils import to_categorical\n",
        "\n",
        "# Configuration options\n",
        "input_vector_length = 784\n",
        "num_classes = 10\n",
        "\n",
        "# Load the data\n",
        "(X_train, Y_train), (X_test, Y_test) = mnist.load_data()\n",
        "\n",
        "# Reshape the data - MLPs do not understand such things as '2D'.\n",
        "# Reshape to 28 x 28 pixels = 784 features\n",
        "X_train = X_train.reshape(X_train.shape[0], input_vector_length)\n",
        "X_test = X_test.reshape(X_test.shape[0], input_vector_length)\n",
        "\n",
        "# Convert into greyscale\n",
        "X_train = X_train.astype('float32')\n",
        "X_test = X_test.astype('float32')\n",
        "X_train /= 255\n",
        "X_test /= 255\n",
        "\n",
        "# Convert target classes to categorical ones\n",
        "Y_train = to_categorical(Y_train, num_classes)\n",
        "Y_test = to_categorical(Y_test, num_classes)\n",
        "\n",
        "# Set the input shape\n",
        "input_shape = (input_vector_length,)\n",
        "print(f'Feature shape: {input_shape}')\n",
        "\n",
        "# Create the model\n",
        "model = Sequential()\n",
        "model.add(Dense(350, input_shape=input_shape, activation='relu'))\n",
        "model.add(Dense(50, activation='relu'))\n",
        "model.add(Dense(num_classes, activation='softmax'))\n",
        "\n",
        "# Configure the model and start training\n",
        "model.compile(loss='categorical_crossentropy', optimizer='adam', metrics=['accuracy'])\n",
        "model.fit(X_train, Y_train, epochs=10, batch_size=250, verbose=1, validation_split=0.2)\n",
        "\n",
        "# Test the model after training\n",
        "test_results = model.evaluate(X_test, Y_test, verbose=1)\n",
        "print(f'Test results - Loss: {test_results[0]} - Accuracy: {test_results[1]}')"
      ],
      "execution_count": 5,
      "outputs": [
        {
          "output_type": "stream",
          "name": "stdout",
          "text": [
            "Feature shape: (784,)\n",
            "Epoch 1/10\n",
            "192/192 [==============================] - 1s 5ms/step - loss: 0.3775 - accuracy: 0.8941 - val_loss: 0.1791 - val_accuracy: 0.9500\n",
            "Epoch 2/10\n",
            "192/192 [==============================] - 1s 4ms/step - loss: 0.1434 - accuracy: 0.9580 - val_loss: 0.1257 - val_accuracy: 0.9636\n",
            "Epoch 3/10\n",
            "192/192 [==============================] - 1s 4ms/step - loss: 0.0963 - accuracy: 0.9719 - val_loss: 0.1060 - val_accuracy: 0.9699\n",
            "Epoch 4/10\n",
            "192/192 [==============================] - 1s 4ms/step - loss: 0.0700 - accuracy: 0.9794 - val_loss: 0.0931 - val_accuracy: 0.9727\n",
            "Epoch 5/10\n",
            "192/192 [==============================] - 1s 4ms/step - loss: 0.0512 - accuracy: 0.9854 - val_loss: 0.0856 - val_accuracy: 0.9747\n",
            "Epoch 6/10\n",
            "192/192 [==============================] - 1s 5ms/step - loss: 0.0404 - accuracy: 0.9882 - val_loss: 0.0864 - val_accuracy: 0.9748\n",
            "Epoch 7/10\n",
            "192/192 [==============================] - 1s 4ms/step - loss: 0.0313 - accuracy: 0.9910 - val_loss: 0.0943 - val_accuracy: 0.9703\n",
            "Epoch 8/10\n",
            "192/192 [==============================] - 1s 5ms/step - loss: 0.0238 - accuracy: 0.9933 - val_loss: 0.0831 - val_accuracy: 0.9750\n",
            "Epoch 9/10\n",
            "192/192 [==============================] - 1s 5ms/step - loss: 0.0175 - accuracy: 0.9958 - val_loss: 0.0821 - val_accuracy: 0.9765\n",
            "Epoch 10/10\n",
            "192/192 [==============================] - 1s 4ms/step - loss: 0.0131 - accuracy: 0.9971 - val_loss: 0.0783 - val_accuracy: 0.9773\n",
            "313/313 [==============================] - 1s 4ms/step - loss: 0.0746 - accuracy: 0.9786\n",
            "Test results - Loss: 0.07457181066274643 - Accuracy: 0.978600025177002\n"
          ]
        }
      ]
    }
  ]
}